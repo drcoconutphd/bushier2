{
 "cells": [
  {
   "cell_type": "code",
   "execution_count": 1,
   "id": "32fce727",
   "metadata": {},
   "outputs": [],
   "source": [
    "import statsmodels.api as sm\n",
    "import pandas as pd\n",
    "import numpy as np\n",
    "import matplotlib.pyplot as plt"
   ]
  },
  {
   "cell_type": "code",
   "execution_count": 6,
   "id": "c20112ac",
   "metadata": {},
   "outputs": [],
   "source": [
    "# All credits to https://github.com/joaofig/pyloess\n",
    "def tricubic(x):\n",
    "    y = np.zeros_like(x)\n",
    "    idx = (x >= -1) & (x <= 1)\n",
    "    y[idx] = np.power(1.0 - np.power(np.abs(x[idx]), 3), 3)\n",
    "    return y\n",
    "\n",
    "\n",
    "class Loess(object):\n",
    "\n",
    "    @staticmethod\n",
    "    def normalize_array(array):\n",
    "        min_val = np.min(array)\n",
    "        max_val = np.max(array)\n",
    "        return (array - min_val) / (max_val - min_val), min_val, max_val\n",
    "\n",
    "    def __init__(self, xx, yy, degree=1):\n",
    "        self.n_xx, self.min_xx, self.max_xx = self.normalize_array(xx)\n",
    "        self.n_yy, self.min_yy, self.max_yy = self.normalize_array(yy)\n",
    "        self.degree = degree\n",
    "\n",
    "    @staticmethod\n",
    "    def get_min_range(distances, window):\n",
    "        min_idx = np.argmin(distances)\n",
    "        n = len(distances)\n",
    "        if min_idx == 0:\n",
    "            return np.arange(0, window)\n",
    "        if min_idx == n-1:\n",
    "            return np.arange(n - window, n)\n",
    "\n",
    "        min_range = [min_idx]\n",
    "        while len(min_range) < window:\n",
    "            i0 = min_range[0]\n",
    "            i1 = min_range[-1]\n",
    "            if i0 == 0:\n",
    "                min_range.append(i1 + 1)\n",
    "            elif i1 == n-1:\n",
    "                min_range.insert(0, i0 - 1)\n",
    "            elif distances[i0-1] < distances[i1+1]:\n",
    "                min_range.insert(0, i0 - 1)\n",
    "            else:\n",
    "                min_range.append(i1 + 1)\n",
    "        return np.array(min_range)\n",
    "\n",
    "    @staticmethod\n",
    "    def get_weights(distances, min_range):\n",
    "        max_distance = np.max(distances[min_range])\n",
    "        weights = tricubic(distances[min_range] / max_distance)\n",
    "        return weights\n",
    "\n",
    "    def normalize_x(self, value):\n",
    "        return (value - self.min_xx) / (self.max_xx - self.min_xx)\n",
    "\n",
    "    def denormalize_y(self, value):\n",
    "        return value * (self.max_yy - self.min_yy) + self.min_yy\n",
    "\n",
    "    def estimate(self, x, window, use_matrix=False, degree=1):\n",
    "        n_x = self.normalize_x(x)\n",
    "        distances = np.abs(self.n_xx - n_x)\n",
    "        min_range = self.get_min_range(distances, window)\n",
    "        weights = self.get_weights(distances, min_range)\n",
    "\n",
    "        if use_matrix or degree > 1:\n",
    "            wm = np.multiply(np.eye(window), weights)\n",
    "            xm = np.ones((window, degree + 1))\n",
    "\n",
    "            xp = np.array([[math.pow(n_x, p)] for p in range(degree + 1)])\n",
    "            for i in range(1, degree + 1):\n",
    "                xm[:, i] = np.power(self.n_xx[min_range], i)\n",
    "\n",
    "            ym = self.n_yy[min_range]\n",
    "            xmt_wm = np.transpose(xm) @ wm\n",
    "            beta = np.linalg.pinv(xmt_wm @ xm) @ xmt_wm @ ym\n",
    "            y = (beta @ xp)[0]\n",
    "        else:\n",
    "            xx = self.n_xx[min_range]\n",
    "            yy = self.n_yy[min_range]\n",
    "            sum_weight = np.sum(weights)\n",
    "            sum_weight_x = np.dot(xx, weights)\n",
    "            sum_weight_y = np.dot(yy, weights)\n",
    "            sum_weight_x2 = np.dot(np.multiply(xx, xx), weights)\n",
    "            sum_weight_xy = np.dot(np.multiply(xx, yy), weights)\n",
    "\n",
    "            mean_x = sum_weight_x / sum_weight\n",
    "            mean_y = sum_weight_y / sum_weight\n",
    "\n",
    "            b = (sum_weight_xy - mean_x * mean_y * sum_weight) / \\\n",
    "                (sum_weight_x2 - mean_x * mean_x * sum_weight)\n",
    "            a = mean_y - b * mean_x\n",
    "            y = a + b * n_x\n",
    "        return self.denormalize_y(y)\n"
   ]
  },
  {
   "cell_type": "code",
   "execution_count": 46,
   "id": "88563944",
   "metadata": {},
   "outputs": [],
   "source": [
    "# estimated from\n",
    "xx = np.array([i for i in range(1,25)])\n",
    "yy = np.array([26, 25.5, 25, 24.7, 24.5, 24.5, 24.8, 25, 26.5, 27, \n",
    "               30, 32, 33.5, 34, 34.8, 35, 34.8, 34, 32, 28, \n",
    "               27.4, 26.6, 26.3, 26])\n",
    "\n",
    "y2 = np.array([26, 25.5, 25, 24.7, 24.5, 24.5, 24.8, 25, 26.5, 28, \n",
    "               32, 34, 34.9, 36, 37, 44.3, 44.7, 40.7, 33.5, 29, \n",
    "               27.4, 26.6, 26.3, 26])\n",
    "\n",
    "loess = Loess(xx, yy)\n",
    "loess2 = Loess(xx, y2)\n",
    "\n",
    "fy = []\n",
    "fy2 = []\n",
    "\n",
    "z = np.linspace(1, 25, num=72)\n",
    "\n",
    "for x in z:\n",
    "    y = loess.estimate(x, window=7, use_matrix=False, degree=1)\n",
    "    fy.append(y)\n",
    "    \n",
    "    yyz = loess2.estimate(x, window = 8, use_matrix = False, degree = 1)\n",
    "    fy2.append(yyz)"
   ]
  },
  {
   "cell_type": "code",
   "execution_count": 48,
   "id": "32c85b9d",
   "metadata": {},
   "outputs": [
    {
     "data": {
      "text/plain": [
       "<matplotlib.legend.Legend at 0x2ad399dcf40>"
      ]
     },
     "execution_count": 48,
     "metadata": {},
     "output_type": "execute_result"
    },
    {
     "data": {
      "image/png": "[encoded data removed]",
      "text/plain": [
       "<Figure size 504x288 with 1 Axes>"
      ]
     },
     "metadata": {
      "needs_background": "light"
     },
     "output_type": "display_data"
    }
   ],
   "source": [
    "%matplotlib inline\n",
    "plt.figure(figsize=(7, 4))\n",
    "plt.plot(z, fy, label='VGS Temperature')\n",
    "plt.plot(z, fy2, label='Temperature')\n",
    "plt.legend(loc=\"upper left\")"
   ]
  },
  {
   "cell_type": "code",
   "execution_count": 43,
   "id": "1e4d8ae4",
   "metadata": {},
   "outputs": [
    {
     "name": "stdout",
     "output_type": "stream",
     "text": [
      "[25.90464123760627, 25.51539025313001, 25.142217122232736, 24.78567094073199, 24.631320292328564, 24.64695345207358, 24.91443700494508, 25.483382200633088, 26.423711580820676, 27.94112584423731, 29.743614429711318, 31.57164529634006, 33.02349568946654, 33.97686169824807, 34.516098493136695, 34.69733782620746, 34.36601753387889, 33.192067451460915, 31.30713170831328, 29.33195921403876, 27.698911790877126, 26.96670960341134, 26.316700878929417, 25.729575482462284]\n"
     ]
    }
   ],
   "source": [
    "print(fy)"
   ]
  },
  {
   "cell_type": "code",
   "execution_count": 44,
   "id": "aa3217e0",
   "metadata": {},
   "outputs": [
    {
     "name": "stdout",
     "output_type": "stream",
     "text": [
      "[25.839510268586974, 25.498065596311886, 25.175623354147536, 24.865700096149414, 24.719366945017022, 24.76719148221565, 25.111071341547742, 25.900038854899996, 27.27868866358901, 29.102574960321903, 31.08735882170869, 33.00767367811021, 34.92975783189658, 37.086163374976124, 39.135540050182094, 40.31708850026672, 40.044588302699424, 38.16147355561849, 34.955671827563265, 31.483465346697656, 28.783702262804017, 27.40978357466948, 26.15917611709338, 25.05641167064305]\n"
     ]
    }
   ],
   "source": [
    "print(fy2)"
   ]
  },
  {
   "cell_type": "code",
   "execution_count": null,
   "id": "b894432d",
   "metadata": {},
   "outputs": [],
   "source": []
  }
 ],
 "metadata": {
  "kernelspec": {
   "display_name": "Python 3",
   "language": "python",
   "name": "python3"
  },
  "language_info": {
   "codemirror_mode": {
    "name": "ipython",
    "version": 3
   },
   "file_extension": ".py",
   "mimetype": "text/x-python",
   "name": "python",
   "nbconvert_exporter": "python",
   "pygments_lexer": "ipython3",
   "version": "3.8.3"
  }
 },
 "nbformat": 4,
 "nbformat_minor": 5
}
